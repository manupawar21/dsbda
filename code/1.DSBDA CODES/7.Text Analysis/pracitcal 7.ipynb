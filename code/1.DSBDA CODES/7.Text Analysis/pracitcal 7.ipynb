{
 "cells": [
  {
   "cell_type": "code",
   "execution_count": 4,
   "id": "2fd8a51c",
   "metadata": {},
   "outputs": [
    {
     "name": "stderr",
     "output_type": "stream",
     "text": [
      "[nltk_data] Downloading package punkt to\n",
      "[nltk_data]     C:\\Users\\prath\\AppData\\Roaming\\nltk_data...\n",
      "[nltk_data]   Package punkt is already up-to-date!\n",
      "[nltk_data] Downloading package stopwords to\n",
      "[nltk_data]     C:\\Users\\prath\\AppData\\Roaming\\nltk_data...\n",
      "[nltk_data]   Package stopwords is already up-to-date!\n",
      "[nltk_data] Downloading package wordnet to\n",
      "[nltk_data]     C:\\Users\\prath\\AppData\\Roaming\\nltk_data...\n",
      "[nltk_data]   Package wordnet is already up-to-date!\n",
      "[nltk_data] Downloading package averaged_perceptron_tagger to\n",
      "[nltk_data]     C:\\Users\\prath\\AppData\\Roaming\\nltk_data...\n",
      "[nltk_data]   Unzipping taggers\\averaged_perceptron_tagger.zip.\n"
     ]
    },
    {
     "data": {
      "text/plain": [
       "True"
      ]
     },
     "execution_count": 4,
     "metadata": {},
     "output_type": "execute_result"
    }
   ],
   "source": [
    "import nltk\n",
    "nltk.download(\"punkt\")\n",
    "nltk.download(\"stopwords\")\n",
    "nltk.download(\"wordnet\")\n",
    "nltk.download(\"averaged_perceptron_tagger\")"
   ]
  },
  {
   "cell_type": "code",
   "execution_count": 9,
   "id": "df8ffaf8",
   "metadata": {},
   "outputs": [],
   "source": [
    "SampleText = \"Tokenization is the first step in text analytics. The process of breaking down a text paragraph into smaller chunks such as words or sentences is called Tokenization.\"\n",
    "\n"
   ]
  },
  {
   "cell_type": "code",
   "execution_count": 12,
   "id": "6b9d36c8",
   "metadata": {},
   "outputs": [
    {
     "data": {
      "text/plain": [
       "['Tokenization is the first step in text analytics.',\n",
       " 'The process of breaking down a text paragraph into smaller chunks such as words or sentences is called Tokenization.']"
      ]
     },
     "execution_count": 12,
     "metadata": {},
     "output_type": "execute_result"
    }
   ],
   "source": [
    "from nltk.tokenize import sent_tokenize\n",
    "tokenizeText = sent_tokenize(SampleText)\n",
    "tokenizeText"
   ]
  },
  {
   "cell_type": "code",
   "execution_count": null,
   "id": "9bc1bc46",
   "metadata": {},
   "outputs": [],
   "source": []
  },
  {
   "cell_type": "code",
   "execution_count": 18,
   "id": "078bd835",
   "metadata": {},
   "outputs": [
    {
     "name": "stdout",
     "output_type": "stream",
     "text": [
      "['Tokenization', 'is', 'the', 'first', 'step', 'in', 'text', 'analytics', '.', 'The', 'process', 'of', 'breaking', 'down', 'a', 'text', 'paragraph', 'into', 'smaller', 'chunks', 'such', 'as', 'words', 'or', 'sentences', 'is', 'called', 'Tokenization', '.']\n"
     ]
    }
   ],
   "source": [
    "from nltk.tokenize import word_tokenize\n",
    "wordTokenize = word_tokenize(SampleText)\n",
    "print(wordTokenize)"
   ]
  },
  {
   "cell_type": "code",
   "execution_count": 20,
   "id": "cb3abea3",
   "metadata": {},
   "outputs": [
    {
     "name": "stdout",
     "output_type": "stream",
     "text": [
      "{'until', 'his', 'weren', 'does', 'ain', \"wouldn't\", \"wasn't\", 'having', 'were', 'ma', 'both', 'through', 'after', 'or', \"hasn't\", 'did', 'y', 'me', 'myself', 'o', 'ours', 'an', 'all', 'needn', 'same', 'own', 'hadn', 'my', 'this', 'they', 's', 'm', 've', 'wasn', 'itself', 'don', 'mustn', \"doesn't\", 'under', 'wouldn', 'have', 'to', 'its', 'because', 'which', 'can', 'for', \"hadn't\", 'there', 'of', \"you've\", 'if', 'here', 'with', 'up', 'again', 'between', 'him', 'during', 'had', 'only', 'above', \"aren't\", 'that', 'off', 'aren', 'mightn', 'what', 'be', 'very', 'yours', 'how', 'those', 'will', \"shouldn't\", 'your', 'them', 'who', 'being', 'didn', 'shouldn', 'i', 'when', \"mustn't\", 'each', \"haven't\", \"should've\", 'why', \"it's\", 'doing', 'are', \"needn't\", 'and', 'before', 'themselves', 'herself', 'whom', 'a', 'other', 'at', \"she's\", 'we', \"won't\", 'these', 'some', 'such', 'nor', 'ourselves', \"don't\", 'do', 'by', 'against', 're', 'now', 'further', 'their', 'then', 'just', 'he', 'shan', 'it', 'over', 'yourselves', \"weren't\", 'himself', 'she', 'but', \"isn't\", 'won', 'am', 'd', 'few', 'couldn', 'you', \"you'll\", 'haven', 'about', 'than', 'most', 'should', 'has', 'hers', 'in', 't', 'once', \"you'd\", 'too', \"didn't\", 'where', 'the', 'hasn', 'from', 'no', 'below', 'more', 'down', 'our', 'not', \"shan't\", 'on', 'into', 'yourself', \"that'll\", 'is', 'her', 'any', \"mightn't\", \"couldn't\", 'theirs', 'out', 'was', 'as', 'while', 'doesn', 'so', 'been', 'll', \"you're\", 'isn'}\n"
     ]
    }
   ],
   "source": [
    "from nltk.corpus import stopwords\n",
    "EngStopWords = set(stopwords.words(\"english\"))\n",
    "print(EngStopWords)"
   ]
  },
  {
   "cell_type": "code",
   "execution_count": 33,
   "id": "565cb6c6",
   "metadata": {},
   "outputs": [
    {
     "name": "stdout",
     "output_type": "stream",
     "text": [
      "Our Text is :  How to remove stop words with NLTK library in Python?\n",
      "Filtered Text is :  ['remove', 'stop', 'words', 'nltk', 'library', 'python', '?']\n"
     ]
    }
   ],
   "source": [
    "Text =  \"How to remove stop words with NLTK library in Python?\"\n",
    "word_Tokenize = word_tokenize(Text.lower())\n",
    "\n",
    "filtered_Sentance = []\n",
    "\n",
    "for word in word_Tokenize:\n",
    "    if(word not in EngStopWords):\n",
    "        filtered_Sentance.append(word)\n",
    "        \n",
    "\n",
    "print(\"Our Text is : \",Text)\n",
    "print(\"Filtered Text is : \",filtered_Sentance)        "
   ]
  },
  {
   "cell_type": "code",
   "execution_count": 37,
   "id": "105c9676",
   "metadata": {},
   "outputs": [
    {
     "name": "stdout",
     "output_type": "stream",
     "text": [
      "program\n",
      "program\n",
      "program\n"
     ]
    }
   ],
   "source": [
    "from nltk.stem import PorterStemmer\n",
    "ps = PorterStemmer()\n",
    "Words = [\"Programming\", \"Programs\",\"Programmed\"]\n",
    "\n",
    "for w in Words:\n",
    "    print(ps.stem(w))\n",
    "    \n"
   ]
  },
  {
   "cell_type": "code",
   "execution_count": 45,
   "id": "c8f23c8d",
   "metadata": {},
   "outputs": [
    {
     "name": "stdout",
     "output_type": "stream",
     "text": [
      "Lemma for Programming is Programming\n",
      "Lemma for Programs is Programs\n",
      "Lemma for Programmed is Programmed\n"
     ]
    }
   ],
   "source": [
    "from nltk.stem import WordNetLemmatizer\n",
    "wNL = WordNetLemmatizer()\n",
    "Words2 = [\"Programming\", \"Programs\",\"Programmed\"]\n",
    "\n",
    "for w in Words2:\n",
    "    print(\"Lemma for {} is {}\".format(w,wNL.lemmatize(w)))\n"
   ]
  },
  {
   "cell_type": "code",
   "execution_count": 39,
   "id": "778e5f80",
   "metadata": {},
   "outputs": [
    {
     "data": {
      "text/plain": [
       "['ARLSTem',\n",
       " 'ARLSTem2',\n",
       " 'Cistem',\n",
       " 'ISRIStemmer',\n",
       " 'LancasterStemmer',\n",
       " 'PorterStemmer',\n",
       " 'RSLPStemmer',\n",
       " 'RegexpStemmer',\n",
       " 'SnowballStemmer',\n",
       " 'StemmerI',\n",
       " 'WordNetLemmatizer',\n",
       " '__builtins__',\n",
       " '__cached__',\n",
       " '__doc__',\n",
       " '__file__',\n",
       " '__loader__',\n",
       " '__name__',\n",
       " '__package__',\n",
       " '__path__',\n",
       " '__spec__',\n",
       " 'api',\n",
       " 'arlstem',\n",
       " 'arlstem2',\n",
       " 'cistem',\n",
       " 'isri',\n",
       " 'lancaster',\n",
       " 'porter',\n",
       " 'regexp',\n",
       " 'rslp',\n",
       " 'snowball',\n",
       " 'util',\n",
       " 'wordnet']"
      ]
     },
     "execution_count": 39,
     "metadata": {},
     "output_type": "execute_result"
    }
   ],
   "source": [
    "dir(nltk.stem)"
   ]
  },
  {
   "cell_type": "code",
   "execution_count": 46,
   "id": "5adac97e",
   "metadata": {},
   "outputs": [],
   "source": [
    "from nltk import word_tokenize"
   ]
  },
  {
   "cell_type": "code",
   "execution_count": 49,
   "id": "d9dc0f96",
   "metadata": {},
   "outputs": [
    {
     "name": "stdout",
     "output_type": "stream",
     "text": [
      "[('He', 'PRP')]\n",
      "[('is', 'VBZ')]\n",
      "[('doing', 'VBG')]\n",
      "[('well', 'RB')]\n",
      "[('job', 'NN')]\n",
      "[('in', 'IN')]\n",
      "[('his', 'PRP$')]\n",
      "[('company', 'NN')]\n"
     ]
    }
   ],
   "source": [
    "TextDemo = \"He is doing well job in his company\"\n",
    "TT = word_tokenize(TextDemo)\n",
    "\n",
    "for w in TT:\n",
    "    print(nltk.pos_tag([w])   )"
   ]
  },
  {
   "cell_type": "code",
   "execution_count": null,
   "id": "29ce7f45",
   "metadata": {},
   "outputs": [],
   "source": []
  }
 ],
 "metadata": {
  "kernelspec": {
   "display_name": "Python 3 (ipykernel)",
   "language": "python",
   "name": "python3"
  },
  "language_info": {
   "codemirror_mode": {
    "name": "ipython",
    "version": 3
   },
   "file_extension": ".py",
   "mimetype": "text/x-python",
   "name": "python",
   "nbconvert_exporter": "python",
   "pygments_lexer": "ipython3",
   "version": "3.11.1"
  }
 },
 "nbformat": 4,
 "nbformat_minor": 5
}
